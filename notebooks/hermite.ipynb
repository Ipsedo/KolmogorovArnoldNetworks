{
 "cells": [
  {
   "cell_type": "code",
   "id": "initial_id",
   "metadata": {
    "collapsed": true
   },
   "source": "import torch as th",
   "outputs": [],
   "execution_count": null
  },
  {
   "metadata": {},
   "cell_type": "code",
   "source": "x = th.randn(4)",
   "id": "b43cc540b5813be7",
   "outputs": [],
   "execution_count": null
  },
  {
   "metadata": {},
   "cell_type": "code",
   "source": [
    "def hermite_with_loop(x: th.Tensor, n: int) -> th.Tensor:  # sans H_0\n",
    "\n",
    "    h = th.ones(x.size(0), n + 1)\n",
    "\n",
    "    h[:, 1] = x\n",
    "    for i in range(1, n):\n",
    "        h[:, i + 1] = x * h[:, i] - i * h[:, i - 1]\n",
    "\n",
    "    h = h[:, 1:] / th.exp(th.lgamma(th.arange(2, n + 2).reshape((1, -1))) / 2)\n",
    "\n",
    "    return h"
   ],
   "id": "18147c4386c59fde",
   "outputs": [],
   "execution_count": null
  },
  {
   "metadata": {},
   "cell_type": "code",
   "source": [
    "def hermite(x: th.Tensor, n: int) -> th.Tensor:  # sans H_0\n",
    "\n",
    "    h = th.ones(x.size(0), n + 1)\n",
    "\n",
    "    h[:, 1] = x\n",
    "    h[:, 2:] = x.unsqueeze(-1) * h[:, 1:-1] + th.arange(1, n) * h[:, :-2]\n",
    "\n",
    "    h = h[:, 1:] / th.exp(th.lgamma(th.arange(2, n + 2).reshape((1, -1))) / 2) # TODO cumsum\n",
    "\n",
    "    return h"
   ],
   "id": "86b3daf361a931e3",
   "outputs": [],
   "execution_count": null
  },
  {
   "metadata": {},
   "cell_type": "code",
   "source": "o = hermite_with_loop(x, 10)",
   "id": "93a0fe669434d4a",
   "outputs": [],
   "execution_count": null
  },
  {
   "metadata": {},
   "cell_type": "code",
   "source": "o2 = hermite(x, 10)",
   "id": "f4c8643b4d9f1577",
   "outputs": [],
   "execution_count": null
  },
  {
   "metadata": {},
   "cell_type": "code",
   "source": "o.size()",
   "id": "cf85cf8a527685fa",
   "outputs": [],
   "execution_count": null
  },
  {
   "metadata": {},
   "cell_type": "code",
   "source": "o2",
   "id": "dba87a3328e3a943",
   "outputs": [],
   "execution_count": null
  },
  {
   "metadata": {},
   "cell_type": "code",
   "source": [
    "s = 10\n",
    "n = 20\n",
    "\n",
    "x = th.randn(s)\n",
    "h = th.ones(s, n + 1)\n",
    "\n",
    "h[:, 1] = x\n",
    "for i in range(1, n):\n",
    "    h[:, i + 1] = x * h[:, i] - i * h[:, i - 1]"
   ],
   "id": "4fde86626581c650",
   "outputs": [],
   "execution_count": null
  },
  {
   "metadata": {},
   "cell_type": "code",
   "source": "",
   "id": "62258267edb2ca78",
   "outputs": [],
   "execution_count": null
  }
 ],
 "metadata": {
  "kernelspec": {
   "display_name": "Python 3",
   "language": "python",
   "name": "python3"
  },
  "language_info": {
   "codemirror_mode": {
    "name": "ipython",
    "version": 2
   },
   "file_extension": ".py",
   "mimetype": "text/x-python",
   "name": "python",
   "nbconvert_exporter": "python",
   "pygments_lexer": "ipython2",
   "version": "2.7.6"
  }
 },
 "nbformat": 4,
 "nbformat_minor": 5
}
