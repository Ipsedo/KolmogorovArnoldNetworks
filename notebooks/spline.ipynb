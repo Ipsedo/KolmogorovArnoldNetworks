{
 "cells": [
  {
   "cell_type": "code",
   "id": "initial_id",
   "metadata": {
    "collapsed": true
   },
   "source": [
    "import torch as th\n",
    "import torch\n",
    "from typing import Optional"
   ],
   "execution_count": null,
   "outputs": []
  },
  {
   "metadata": {},
   "cell_type": "code",
   "source": [
    "def b_spline_first(x: torch.Tensor, i: int, k: int) -> torch.Tensor:\n",
    "    initial_i = i\n",
    "    n = x.size(0)\n",
    "\n",
    "    def __nodes(_i: int) -> float:\n",
    "        return (_i + k // 2 - k % 2) / (n + (k // 2 - k % 2) * 2)\n",
    "\n",
    "    def __b_spline(_x: torch.Tensor, _i: int, _k: int) -> torch.Tensor:\n",
    "        if _k == 0:\n",
    "            return torch.logical_and(\n",
    "                torch.ge(_x[initial_i], __nodes(_i)),\n",
    "                torch.lt(_x[initial_i], __nodes(_i + 1)),\n",
    "            ).to(torch.float)\n",
    "\n",
    "        return __b_spline(_x, _i, _k - 1) * (_x[initial_i] - __nodes(_i)) / (\n",
    "            __nodes(_i + _k) - __nodes(_i)\n",
    "        ) + __b_spline(_x, _i + 1, _k - 1) * (\n",
    "            __nodes(_i + _k + 1) - _x[initial_i]\n",
    "        ) / (\n",
    "            __nodes(_i + _k + 1) - __nodes(_i + 1)\n",
    "        )\n",
    "\n",
    "    return __b_spline(x, i, k)"
   ],
   "id": "a98b1dfc5c62a0c6",
   "execution_count": null,
   "outputs": []
  },
  {
   "metadata": {},
   "cell_type": "code",
   "source": [
    "def b_spline(x: th.Tensor, k: int) -> th.Tensor:\n",
    "    batch_size, n = x.size()[:2]\n",
    "\n",
    "    offset = k // 2 - k % 2\n",
    "\n",
    "    def __nodes(_i: th.Tensor) -> th.Tensor:\n",
    "        return (_i + offset) / (n + offset * 2)\n",
    "\n",
    "    i_s = th.arange(n, device=x.device).unsqueeze(0)\n",
    "\n",
    "    def __b_spline(curr_i_s: th.Tensor, curr_k: int) -> th.Tensor:\n",
    "        if curr_k == 0:\n",
    "            return th.logical_and(\n",
    "                th.ge(x, __nodes(curr_i_s)), th.lt(x, __nodes(curr_i_s + 1))\n",
    "            ).to(th.float)\n",
    "\n",
    "        return __b_spline(curr_i_s, curr_k - 1) * (x - __nodes(curr_i_s)) / (\n",
    "            __nodes(curr_i_s + curr_k) - __nodes(curr_i_s)\n",
    "        ) + __b_spline(curr_i_s + 1, curr_k - 1) * (\n",
    "            __nodes(curr_i_s + curr_k + 1) - x\n",
    "        ) / (\n",
    "            __nodes(curr_i_s + curr_k + 1) - __nodes(curr_i_s + 1)\n",
    "        )\n",
    "\n",
    "    return __b_spline(i_s, k)"
   ],
   "id": "970bad6b11f1d70b",
   "execution_count": null,
   "outputs": []
  },
  {
   "metadata": {},
   "cell_type": "code",
   "source": "x_in = torch.randn(10)",
   "id": "75336fd018af08a7",
   "execution_count": null,
   "outputs": []
  },
  {
   "metadata": {},
   "cell_type": "code",
   "source": [
    "print(\n",
    "    \"[\"\n",
    "    + \", \".join(\n",
    "        [str(b_spline_first(x_in, i, 3).float()) for i in range(x_in.size(0))]\n",
    "    )\n",
    "    + \"]\"\n",
    ")"
   ],
   "id": "2ed0c1fa1ef29e11",
   "execution_count": null,
   "outputs": []
  },
  {
   "metadata": {},
   "cell_type": "code",
   "source": "print(b_spline(x_in.unsqueeze(0), 3))",
   "id": "27b40978df46eadd",
   "execution_count": null,
   "outputs": []
  },
  {
   "metadata": {},
   "cell_type": "code",
   "source": "",
   "id": "3f707016406479bb",
   "execution_count": null,
   "outputs": []
  }
 ],
 "metadata": {
  "kernelspec": {
   "display_name": "Python 3",
   "language": "python",
   "name": "python3"
  },
  "language_info": {
   "codemirror_mode": {
    "name": "ipython",
    "version": 2
   },
   "file_extension": ".py",
   "mimetype": "text/x-python",
   "name": "python",
   "nbconvert_exporter": "python",
   "pygments_lexer": "ipython2",
   "version": "2.7.6"
  }
 },
 "nbformat": 4,
 "nbformat_minor": 5
}
